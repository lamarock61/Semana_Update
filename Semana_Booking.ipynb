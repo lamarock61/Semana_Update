{
  "nbformat": 4,
  "nbformat_minor": 0,
  "metadata": {
    "colab": {
      "provenance": [],
      "authorship_tag": "ABX9TyO3mSqTrO0M4Ixw3sSOnlUP",
      "include_colab_link": true
    },
    "kernelspec": {
      "name": "python3",
      "display_name": "Python 3"
    },
    "language_info": {
      "name": "python"
    }
  },
  "cells": [
    {
      "cell_type": "markdown",
      "metadata": {
        "id": "view-in-github",
        "colab_type": "text"
      },
      "source": [
        "<a href=\"https://colab.research.google.com/github/lamarock61/Semana_Update/blob/main/Semana_Booking.ipynb\" target=\"_parent\"><img src=\"https://colab.research.google.com/assets/colab-badge.svg\" alt=\"Open In Colab\"/></a>"
      ]
    },
    {
      "cell_type": "code",
      "execution_count": null,
      "metadata": {
        "id": "VS1BNOudSY_d"
      },
      "outputs": [],
      "source": [
        "import requests\n",
        "import json\n",
        "from datetime import datetime, timedelta\n",
        "\n",
        "# Define the URL\n",
        "url = \"https://api.semana.io/v1/bookings\"  # Replace with your target URL\n",
        "\n",
        "# Define the headers\n",
        "headers = {\n",
        "    \"X-API-key\": \"xxx\"\n",
        "}\n",
        "\n",
        "# Define the start date as the current date\n",
        "start_date = datetime.now()\n",
        "\n",
        "# Calculate the end date as start_date + 6 weeks (42 days)\n",
        "end_date = start_date + timedelta(days=55)\n",
        "\n",
        "# Define other JSON data fields\n",
        "json_data = {\n",
        "    \"period\": \"day\",\n",
        "    \"collaboratorId\": 22229\n",
        "}\n",
        "\n",
        "# Send POST requests for each date in the range\n",
        "current_date = start_date\n",
        "while current_date <= end_date:\n",
        "    # Set the \"type\" parameter based on the day of the week\n",
        "    if current_date.weekday() in (3, 4):  # Thursday or Friday\n",
        "        json_data[\"type\"] = \"remote\"\n",
        "    else:\n",
        "        json_data[\"type\"] = \"office\"\n",
        "\n",
        "    formatted_date = current_date.strftime(\"%Y-%m-%d\")\n",
        "    json_data[\"date\"] = formatted_date\n",
        "\n",
        "    response = requests.post(url, headers=headers, json=json_data)\n",
        "\n",
        "    # Check the response status code\n",
        "    if response.status_code == 200:\n",
        "        print(f\"Request for date {formatted_date} was successful!\")\n",
        "        print(\"Response:\", response.text)\n",
        "    else:\n",
        "        print(f\"Request for date {formatted_date} failed with status code:\", response.status_code)\n",
        "        print(\"Response:\", response.text)\n",
        "\n",
        "    current_date += timedelta(days=1)\n"
      ]
    }
  ]
}
